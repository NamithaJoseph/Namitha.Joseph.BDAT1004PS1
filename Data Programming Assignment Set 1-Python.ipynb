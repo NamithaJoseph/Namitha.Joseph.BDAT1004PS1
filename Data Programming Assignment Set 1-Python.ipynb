{
 "cells": [
  {
   "cell_type": "code",
   "execution_count": 2,
   "id": "8330f6fe",
   "metadata": {},
   "outputs": [
    {
     "name": "stdout",
     "output_type": "stream",
     "text": [
      "Enter the text to be converted into Pig-Latin:happy\n",
      "The Pig-Latin convetred version is : appyhay\n"
     ]
    }
   ],
   "source": [
    "#Question 6\n",
    "#function to  convert the word into pig-latin\n",
    "def pig(text):\n",
    "    stext = text.lower()\n",
    "    if stext[0] in 'aeiou':\n",
    "        soltext = stext + 'way'\n",
    "        return soltext\n",
    "\n",
    "    else:\n",
    "        soltext = stext[1:] + stext[0]+ 'ay'\n",
    "        return soltext\n",
    "\n",
    "#entering the input from the user\n",
    "text = input(\"Enter the text to be converted into Pig-Latin:\")\n",
    "string = pig(text)\n",
    "print(\"The Pig-Latin convetred version is :\",string)\n"
   ]
  },
  {
   "cell_type": "code",
   "execution_count": 14,
   "id": "5894391a",
   "metadata": {},
   "outputs": [
    {
     "name": "stdout",
     "output_type": "stream",
     "text": [
      "There are 13 patients of blood type AB\n",
      "There are 15 patients of blood type A\n",
      "There is one patient of blood type B\n",
      "There are 15 patients of blood type O\n",
      "There are no patients of blood type OO\n"
     ]
    }
   ],
   "source": [
    "#Question 7\n",
    "\n",
    "# defining function to count blood types from the given input file\n",
    "def bldcount(filename):\n",
    "    groups = []\n",
    "    with open(filename, 'r') as f:\n",
    "        groups = ''.join(f.readlines()).split()\n",
    "        f.close()\n",
    "        bloodgroups = ['AB','A','B','O','OO']\n",
    "\n",
    "    for x in bloodgroups:\n",
    "        patientCount = groups.count(x)\n",
    "        if patientCount == 0:\n",
    "            print(f\"There are no patients of blood type {x}\")\n",
    "        elif patientCount == 1:\n",
    "            print(f\"There is one patient of blood type {x}\")\n",
    "        else:\n",
    "            print(f\"There are {patientCount} patients of blood type {x}\")\n",
    "\n",
    "\n",
    "bldcount('C:/Users/josep/Downloads/Week 02 Notebook/Week 02 Notebook/bloodtype.txt')\n"
   ]
  },
  {
   "cell_type": "code",
   "execution_count": 26,
   "id": "2eaf4a7a",
   "metadata": {},
   "outputs": [
    {
     "name": "stdout",
     "output_type": "stream",
     "text": [
      "Enter currency name:JPY\n",
      "Enter amount:100\n",
      "1.241401\n"
     ]
    }
   ],
   "source": [
    "#Question 8\n",
    "\n",
    "#function to convert currency\n",
    "def curconv(currencyType, amount):\n",
    "    with open('C:/Users/josep/Downloads/Week 02 Notebook/Week 02 Notebook/currencies.txt', 'r') as file:\n",
    "        for value in file:\n",
    "            if currencyType in value:\n",
    "                USDValue = float(value.split()[1])\n",
    "                return USDValue * amount\n",
    "\n",
    "currencyType = input(\"Enter currency name:\")\n",
    "amount = int(input(\"Enter amount:\"))\n",
    "print(curconv(currencyType, amount))\n"
   ]
  },
  {
   "cell_type": "code",
   "execution_count": 30,
   "id": "9f269ea5",
   "metadata": {},
   "outputs": [],
   "source": [
    "#Question 9\n",
    "\n",
    "\n",
    "# 1.Trying to add incompatible variables, as in adding 6 + ‘a’\n",
    "# Exception is:\n",
    "# TypeError: unsupported operand type(s) for +: 'int' and 'str'\n",
    "\n",
    "\n",
    "# 2.Referring to the 12th item of a list that has only 10 items\n",
    "# Exception is:\n",
    "# IndexError: list index out of range\n",
    "\n",
    "\n",
    "# 3. Using a value that is out of range for a function’s input, such as calling math.sqrt(-1.0)\n",
    "# Exception is:\n",
    "# ValueError: math domain error\n",
    "\n",
    "\n",
    "# 4.Using an undeclared variable, such as print(x) when x has not been defined\n",
    "# Exception is:\n",
    "# NameError: name 'x' is not defined\n",
    "\n",
    "\n",
    "# 5.Trying to open a file that does not exist, such as mistyping the file name or looking in the wrong directory.\n",
    "# Exception is:\n",
    "# FileNotFoundError: [Errno 2] No such file or directory: 'file.txt'\n"
   ]
  },
  {
   "cell_type": "code",
   "execution_count": 42,
   "id": "dbdcdc3d",
   "metadata": {},
   "outputs": [
    {
     "name": "stdout",
     "output_type": "stream",
     "text": [
      "Enter the text:xyz\n",
      "[0, 0, 0, 0, 0, 0, 0, 0, 0, 0, 0, 0, 0, 0, 0, 0, 0, 0, 0, 0, 0, 0, 0, 1, 1, 1]\n"
     ]
    }
   ],
   "source": [
    "#Question 10\n",
    "\n",
    "# defining function for encryption\n",
    "def frequencies(text):\n",
    "    value = [0] * 26\n",
    "    for char in text:\n",
    "        if char in 'abcdefghijklmnopqrstuvwxyz':\n",
    "            value[ord(char)-ord('a')] += 1\n",
    "\n",
    "    return value\n",
    "\n",
    "text = input(\"Enter the text:\")\n",
    "print(frequencies(text))\n"
   ]
  },
  {
   "cell_type": "code",
   "execution_count": null,
   "id": "a8d04188",
   "metadata": {},
   "outputs": [],
   "source": []
  }
 ],
 "metadata": {
  "kernelspec": {
   "display_name": "Python 3 (ipykernel)",
   "language": "python",
   "name": "python3"
  },
  "language_info": {
   "codemirror_mode": {
    "name": "ipython",
    "version": 3
   },
   "file_extension": ".py",
   "mimetype": "text/x-python",
   "name": "python",
   "nbconvert_exporter": "python",
   "pygments_lexer": "ipython3",
   "version": "3.9.13"
  }
 },
 "nbformat": 4,
 "nbformat_minor": 5
}
