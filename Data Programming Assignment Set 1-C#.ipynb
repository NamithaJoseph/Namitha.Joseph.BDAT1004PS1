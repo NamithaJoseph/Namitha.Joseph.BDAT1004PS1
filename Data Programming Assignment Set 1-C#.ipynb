{
 "cells": [
  {
   "cell_type": "code",
   "execution_count": 11,
   "id": "b14a14f5",
   "metadata": {},
   "outputs": [],
   "source": [
    "//5               //Data type is: Integer\n",
    "//5.0             //Data type is: Double\n",
    "//5 > 1           //Data type is: Boolean\n",
    "//'5'             //Data type is: Character\n",
    "//5 * 2           //Data type is: Integer\n",
    "//'5' * 2         //Data type is: Integer\n",
    "//'5' + '2'       //Data type is: Integer\n",
    "//5 / 2           //Data type is: Integer\n",
    "//5 % 2           //Data type is: Integer\n",
    "//{5, 2, 1}       //Data type is: Integer Array\n",
    "//5 == 3          //Data type is: Boolean\n",
    "//Pi (the number) //Data type is: Float"
   ]
  },
  {
   "cell_type": "code",
   "execution_count": 17,
   "id": "691ed229",
   "metadata": {},
   "outputs": [
    {
     "name": "stdout",
     "output_type": "stream",
     "text": [
      "Length of Supercalifragilisticexpialidocious is : 34\n",
      "Supercalifragilisticexpialidocious contains 'ice' as a substring : True\n",
      "The longest word is: Supercalifragilisticexpialidocious with the word length being 34\n",
      "The First composer in the dictionary is : Bartok\n",
      "The Last composer in the dictionary is : Buxtehude\n"
     ]
    }
   ],
   "source": [
    "//Question 2\n",
    "//a\n",
    "String st=\"Supercalifragilisticexpialidocious\";\n",
    "Console.WriteLine(\"Length of Supercalifragilisticexpialidocious is : \"+st.Length);\n",
    "\n",
    "//b\n",
    "Console.WriteLine(\"Supercalifragilisticexpialidocious contains 'ice' as a substring : \"+st.Contains(\"ice\"));\n",
    "\n",
    "//c\n",
    "string word1 = \"Supercalifragilisticexpialidocious\";\n",
    "string word2 = \"Honorificabilitudinitatibus\";\n",
    "string word3 = \"Bababadalgharaghtakamminarronnkonn\";\n",
    "\n",
    "int maxLength = Math.Max(word1.Length, Math.Max(word2.Length, word3.Length));\n",
    "\n",
    "if (word1.Length == maxLength)\n",
    "{\n",
    "    Console.WriteLine(\"The longest word is: \" + word1 + \" with the word length being \"+ word1.Length);\n",
    "}\n",
    "else if (word2.Length == maxLength)\n",
    "{\n",
    "    Console.WriteLine(\"The longest word is: \" + word2 + \" with the word length being \"+ word2.Length);\n",
    "}\n",
    "else\n",
    "{\n",
    "    Console.WriteLine(\"The longest word is: \" + word3 + \" with the word length being \"+ word3.Length);\n",
    "}\n",
    "\n",
    "//d\n",
    "string[] composerList = { \"Berlioz\", \"Borodin\", \"Brian\", \"Bartok\", \"Bellini\", \"Buxtehude\", \"Bernstein\" };\n",
    "Array.Sort(composerList);\n",
    "Console.WriteLine(\"The First composer in the dictionary is : \" + composerList[0]);\n",
    "Console.WriteLine(\"The Last composer in the dictionary is : \" + composerList[composerList.Length-1]);          "
   ]
  },
  {
   "cell_type": "code",
   "execution_count": 21,
   "id": "83181b2d",
   "metadata": {},
   "outputs": [
    {
     "name": "stdout",
     "output_type": "stream",
     "text": [
      "Area of triangle with sides 3, 4, 5 is: 6\r\n"
     ]
    }
   ],
   "source": [
    "//Question 3\n",
    "double a = 3;\n",
    "double b = 4;\n",
    "double c = 5;\n",
    "public double triangleArea(double a, double b, double c)\n",
    "{\n",
    "    double s = (a + b + c) / 2;\n",
    "    return Math.Sqrt(s * (s - a) * (s - b) * (s - c));\n",
    "}\n",
    "\n",
    "Console.WriteLine(\"Area of triangle with sides \" + a + \", \" + b + \", \" + c + \" is: \" + triangleArea(a, b, c));\n"
   ]
  },
  {
   "cell_type": "code",
   "execution_count": 22,
   "id": "d039673d",
   "metadata": {},
   "outputs": [
    {
     "name": "stdout",
     "output_type": "stream",
     "text": [
      "The Even Array elements are:\n",
      "42 56 32 \n",
      "The Odd Array elements are:\n",
      "25 47 "
     ]
    }
   ],
   "source": [
    "//Question 4\n",
    "int[] arr = new int[]{25,47,42,56,32};\n",
    "int[] evenArray=new int[5];\n",
    "int[] oddArray=new int[5];\n",
    "int j = 0,k =0;\n",
    "for (int i=0;i<5;i++)\n",
    "{\n",
    "    if (arr[i] % 2==0) \n",
    "    {\n",
    "        evenArray[j] = arr[i];\n",
    "        j++;\n",
    "    }\n",
    "} \n",
    "for (int i=0;i<5;i++)\n",
    "{\n",
    "    if (arr[i] % 2!=0) \n",
    "    {\n",
    "        oddArray[k] = arr[i];\n",
    "        k++;\n",
    "    }\n",
    "}\n",
    "\n",
    "Console.WriteLine(\"The Even Array elements are:\");\n",
    "for (int i=0;i<j;i++)\n",
    "{\n",
    "    Console.Write(evenArray[i] + \" \");\n",
    "}\n",
    "\n",
    "Console.WriteLine(\"\\nThe Odd Array elements are:\");\n",
    "for (int i=0;i<k;i++)\n",
    "{\n",
    "    Console.Write(oddArray[i]+ \" \");\n",
    "}"
   ]
  },
  {
   "cell_type": "code",
   "execution_count": 28,
   "id": "621e86e3",
   "metadata": {},
   "outputs": [
    {
     "name": "stdout",
     "output_type": "stream",
     "text": [
      "inside(1, 1, 0, 0, 2, 3): True\n",
      "inside(-1, -1, 0, 0, 2, 3): False\n",
      "Point (1, 1) lies in both rectangles: False\n"
     ]
    }
   ],
   "source": [
    "//Question 5\n",
    "//a\n",
    "public bool inside(double x, double y, double x1, double y1, double x2, double y2)\n",
    "{\n",
    "    if (x >= x1 && x <= x2 && y >= y1 && y <= y2)\n",
    "    {\n",
    "        return true;\n",
    "    }\n",
    "    else\n",
    "    {\n",
    "        return false;\n",
    "    }\n",
    "}\n",
    "Console.WriteLine(\"inside(1, 1, 0, 0, 2, 3): \" + inside(1, 1, 0, 0, 2, 3));\n",
    "Console.WriteLine(\"inside(-1, -1, 0, 0, 2, 3): \" + inside(-1, -1, 0, 0, 2, 3));\n",
    "\n",
    "//b\n",
    "Console.WriteLine(\"Point (1, 1) lies in both rectangles: \" + (inside(1, 1, 0.3, 0.5, 1.1, 0.7) && inside(1, 1, 0.5, 0.2, 1.1, 2)));"
   ]
  },
  {
   "cell_type": "code",
   "execution_count": null,
   "id": "999814f4",
   "metadata": {},
   "outputs": [],
   "source": []
  },
  {
   "cell_type": "code",
   "execution_count": null,
   "id": "1498ea7e",
   "metadata": {},
   "outputs": [],
   "source": []
  }
 ],
 "metadata": {
  "kernelspec": {
   "display_name": ".NET (C#)",
   "language": "C#",
   "name": ".net-csharp"
  },
  "language_info": {
   "file_extension": ".cs",
   "mimetype": "text/x-csharp",
   "name": "C#",
   "pygments_lexer": "csharp",
   "version": "11.0"
  }
 },
 "nbformat": 4,
 "nbformat_minor": 5
}
